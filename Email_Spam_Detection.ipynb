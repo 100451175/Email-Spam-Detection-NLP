{
  "metadata": {
    "kernelspec": {
      "language": "python",
      "display_name": "Python 3",
      "name": "python3"
    },
    "language_info": {
      "pygments_lexer": "ipython3",
      "nbconvert_exporter": "python",
      "version": "3.6.4",
      "file_extension": ".py",
      "codemirror_mode": {
        "name": "ipython",
        "version": 3
      },
      "name": "python",
      "mimetype": "text/x-python"
    },
    "kaggle": {
      "accelerator": "none",
      "dataSources": [
        {
          "sourceId": 2355807,
          "sourceType": "datasetVersion",
          "datasetId": 1422521
        }
      ],
      "dockerImageVersionId": 30096,
      "isInternetEnabled": false,
      "language": "python",
      "sourceType": "notebook",
      "isGpuEnabled": false
    },
    "colab": {
      "provenance": []
    }
  },
  "nbformat_minor": 0,
  "nbformat": 4,
  "cells": [
    {
      "cell_type": "markdown",
      "source": [
        "# Libraries"
      ],
      "metadata": {
        "id": "Ucjqrvn3n78-"
      }
    },
    {
      "cell_type": "code",
      "source": [
        "import numpy as np\n",
        "import pandas as pd\n",
        "from sklearn.ensemble import RandomForestClassifier\n",
        "from sklearn.naive_bayes import MultinomialNB\n",
        "from sklearn.feature_extraction.text import CountVectorizer\n",
        "from sklearn.model_selection import train_test_split\n",
        "from sklearn.svm import SVC\n",
        "from sklearn.neighbors import KNeighborsClassifier\n",
        "import time\n",
        "from sklearn.metrics import accuracy_score, precision_score, recall_score, f1_score\n",
        "import matplotlib.pyplot as plt\n",
        "import seaborn as sns\n",
        "from imblearn.under_sampling import RandomUnderSampler\n",
        "from imblearn.over_sampling import RandomOverSampler\n",
        "\n"
      ],
      "metadata": {
        "_uuid": "8f2839f25d086af736a60e9eeb907d3b93b6e0e5",
        "_cell_guid": "b1076dfc-b9ad-4769-8c92-a6c4dae69d19",
        "execution": {
          "iopub.status.busy": "2021-06-21T08:27:20.97372Z",
          "iopub.execute_input": "2021-06-21T08:27:20.974347Z",
          "iopub.status.idle": "2021-06-21T08:27:20.981521Z",
          "shell.execute_reply.started": "2021-06-21T08:27:20.974293Z",
          "shell.execute_reply": "2021-06-21T08:27:20.980587Z"
        },
        "trusted": true,
        "id": "h69ep1hQlLQ6"
      },
      "execution_count": 1,
      "outputs": []
    },
    {
      "cell_type": "markdown",
      "source": [
        "# Data"
      ],
      "metadata": {
        "id": "-k-1Xe80oGwi"
      }
    },
    {
      "cell_type": "code",
      "source": [
        "data=pd.read_csv('spam.csv')\n",
        "data"
      ],
      "metadata": {
        "execution": {
          "iopub.status.busy": "2021-06-21T08:27:20.982925Z",
          "iopub.execute_input": "2021-06-21T08:27:20.983369Z",
          "iopub.status.idle": "2021-06-21T08:27:21.016909Z",
          "shell.execute_reply.started": "2021-06-21T08:27:20.983329Z",
          "shell.execute_reply": "2021-06-21T08:27:21.016059Z"
        },
        "trusted": true,
        "id": "9iaTGG4FlLQ6",
        "outputId": "0b4e2aaf-4e93-41d0-931f-9d37f7cb77b8",
        "colab": {
          "base_uri": "https://localhost:8080/",
          "height": 321
        }
      },
      "execution_count": 4,
      "outputs": [
        {
          "output_type": "error",
          "ename": "FileNotFoundError",
          "evalue": "[Errno 2] No such file or directory: 'spam.csv'",
          "traceback": [
            "\u001b[0;31m---------------------------------------------------------------------------\u001b[0m",
            "\u001b[0;31mFileNotFoundError\u001b[0m                         Traceback (most recent call last)",
            "\u001b[0;32m<ipython-input-4-a6f1314ef1ab>\u001b[0m in \u001b[0;36m<cell line: 1>\u001b[0;34m()\u001b[0m\n\u001b[0;32m----> 1\u001b[0;31m \u001b[0mdata\u001b[0m\u001b[0;34m=\u001b[0m\u001b[0mpd\u001b[0m\u001b[0;34m.\u001b[0m\u001b[0mread_csv\u001b[0m\u001b[0;34m(\u001b[0m\u001b[0;34m'spam.csv'\u001b[0m\u001b[0;34m)\u001b[0m\u001b[0;34m\u001b[0m\u001b[0;34m\u001b[0m\u001b[0m\n\u001b[0m\u001b[1;32m      2\u001b[0m \u001b[0mdata\u001b[0m\u001b[0;34m\u001b[0m\u001b[0;34m\u001b[0m\u001b[0m\n",
            "\u001b[0;32m/usr/local/lib/python3.10/dist-packages/pandas/io/parsers/readers.py\u001b[0m in \u001b[0;36mread_csv\u001b[0;34m(filepath_or_buffer, sep, delimiter, header, names, index_col, usecols, dtype, engine, converters, true_values, false_values, skipinitialspace, skiprows, skipfooter, nrows, na_values, keep_default_na, na_filter, verbose, skip_blank_lines, parse_dates, infer_datetime_format, keep_date_col, date_parser, date_format, dayfirst, cache_dates, iterator, chunksize, compression, thousands, decimal, lineterminator, quotechar, quoting, doublequote, escapechar, comment, encoding, encoding_errors, dialect, on_bad_lines, delim_whitespace, low_memory, memory_map, float_precision, storage_options, dtype_backend)\u001b[0m\n\u001b[1;32m    910\u001b[0m     \u001b[0mkwds\u001b[0m\u001b[0;34m.\u001b[0m\u001b[0mupdate\u001b[0m\u001b[0;34m(\u001b[0m\u001b[0mkwds_defaults\u001b[0m\u001b[0;34m)\u001b[0m\u001b[0;34m\u001b[0m\u001b[0;34m\u001b[0m\u001b[0m\n\u001b[1;32m    911\u001b[0m \u001b[0;34m\u001b[0m\u001b[0m\n\u001b[0;32m--> 912\u001b[0;31m     \u001b[0;32mreturn\u001b[0m \u001b[0m_read\u001b[0m\u001b[0;34m(\u001b[0m\u001b[0mfilepath_or_buffer\u001b[0m\u001b[0;34m,\u001b[0m \u001b[0mkwds\u001b[0m\u001b[0;34m)\u001b[0m\u001b[0;34m\u001b[0m\u001b[0;34m\u001b[0m\u001b[0m\n\u001b[0m\u001b[1;32m    913\u001b[0m \u001b[0;34m\u001b[0m\u001b[0m\n\u001b[1;32m    914\u001b[0m \u001b[0;34m\u001b[0m\u001b[0m\n",
            "\u001b[0;32m/usr/local/lib/python3.10/dist-packages/pandas/io/parsers/readers.py\u001b[0m in \u001b[0;36m_read\u001b[0;34m(filepath_or_buffer, kwds)\u001b[0m\n\u001b[1;32m    575\u001b[0m \u001b[0;34m\u001b[0m\u001b[0m\n\u001b[1;32m    576\u001b[0m     \u001b[0;31m# Create the parser.\u001b[0m\u001b[0;34m\u001b[0m\u001b[0;34m\u001b[0m\u001b[0m\n\u001b[0;32m--> 577\u001b[0;31m     \u001b[0mparser\u001b[0m \u001b[0;34m=\u001b[0m \u001b[0mTextFileReader\u001b[0m\u001b[0;34m(\u001b[0m\u001b[0mfilepath_or_buffer\u001b[0m\u001b[0;34m,\u001b[0m \u001b[0;34m**\u001b[0m\u001b[0mkwds\u001b[0m\u001b[0;34m)\u001b[0m\u001b[0;34m\u001b[0m\u001b[0;34m\u001b[0m\u001b[0m\n\u001b[0m\u001b[1;32m    578\u001b[0m \u001b[0;34m\u001b[0m\u001b[0m\n\u001b[1;32m    579\u001b[0m     \u001b[0;32mif\u001b[0m \u001b[0mchunksize\u001b[0m \u001b[0;32mor\u001b[0m \u001b[0miterator\u001b[0m\u001b[0;34m:\u001b[0m\u001b[0;34m\u001b[0m\u001b[0;34m\u001b[0m\u001b[0m\n",
            "\u001b[0;32m/usr/local/lib/python3.10/dist-packages/pandas/io/parsers/readers.py\u001b[0m in \u001b[0;36m__init__\u001b[0;34m(self, f, engine, **kwds)\u001b[0m\n\u001b[1;32m   1405\u001b[0m \u001b[0;34m\u001b[0m\u001b[0m\n\u001b[1;32m   1406\u001b[0m         \u001b[0mself\u001b[0m\u001b[0;34m.\u001b[0m\u001b[0mhandles\u001b[0m\u001b[0;34m:\u001b[0m \u001b[0mIOHandles\u001b[0m \u001b[0;34m|\u001b[0m \u001b[0;32mNone\u001b[0m \u001b[0;34m=\u001b[0m \u001b[0;32mNone\u001b[0m\u001b[0;34m\u001b[0m\u001b[0;34m\u001b[0m\u001b[0m\n\u001b[0;32m-> 1407\u001b[0;31m         \u001b[0mself\u001b[0m\u001b[0;34m.\u001b[0m\u001b[0m_engine\u001b[0m \u001b[0;34m=\u001b[0m \u001b[0mself\u001b[0m\u001b[0;34m.\u001b[0m\u001b[0m_make_engine\u001b[0m\u001b[0;34m(\u001b[0m\u001b[0mf\u001b[0m\u001b[0;34m,\u001b[0m \u001b[0mself\u001b[0m\u001b[0;34m.\u001b[0m\u001b[0mengine\u001b[0m\u001b[0;34m)\u001b[0m\u001b[0;34m\u001b[0m\u001b[0;34m\u001b[0m\u001b[0m\n\u001b[0m\u001b[1;32m   1408\u001b[0m \u001b[0;34m\u001b[0m\u001b[0m\n\u001b[1;32m   1409\u001b[0m     \u001b[0;32mdef\u001b[0m \u001b[0mclose\u001b[0m\u001b[0;34m(\u001b[0m\u001b[0mself\u001b[0m\u001b[0;34m)\u001b[0m \u001b[0;34m->\u001b[0m \u001b[0;32mNone\u001b[0m\u001b[0;34m:\u001b[0m\u001b[0;34m\u001b[0m\u001b[0;34m\u001b[0m\u001b[0m\n",
            "\u001b[0;32m/usr/local/lib/python3.10/dist-packages/pandas/io/parsers/readers.py\u001b[0m in \u001b[0;36m_make_engine\u001b[0;34m(self, f, engine)\u001b[0m\n\u001b[1;32m   1659\u001b[0m                 \u001b[0;32mif\u001b[0m \u001b[0;34m\"b\"\u001b[0m \u001b[0;32mnot\u001b[0m \u001b[0;32min\u001b[0m \u001b[0mmode\u001b[0m\u001b[0;34m:\u001b[0m\u001b[0;34m\u001b[0m\u001b[0;34m\u001b[0m\u001b[0m\n\u001b[1;32m   1660\u001b[0m                     \u001b[0mmode\u001b[0m \u001b[0;34m+=\u001b[0m \u001b[0;34m\"b\"\u001b[0m\u001b[0;34m\u001b[0m\u001b[0;34m\u001b[0m\u001b[0m\n\u001b[0;32m-> 1661\u001b[0;31m             self.handles = get_handle(\n\u001b[0m\u001b[1;32m   1662\u001b[0m                 \u001b[0mf\u001b[0m\u001b[0;34m,\u001b[0m\u001b[0;34m\u001b[0m\u001b[0;34m\u001b[0m\u001b[0m\n\u001b[1;32m   1663\u001b[0m                 \u001b[0mmode\u001b[0m\u001b[0;34m,\u001b[0m\u001b[0;34m\u001b[0m\u001b[0;34m\u001b[0m\u001b[0m\n",
            "\u001b[0;32m/usr/local/lib/python3.10/dist-packages/pandas/io/common.py\u001b[0m in \u001b[0;36mget_handle\u001b[0;34m(path_or_buf, mode, encoding, compression, memory_map, is_text, errors, storage_options)\u001b[0m\n\u001b[1;32m    857\u001b[0m         \u001b[0;32mif\u001b[0m \u001b[0mioargs\u001b[0m\u001b[0;34m.\u001b[0m\u001b[0mencoding\u001b[0m \u001b[0;32mand\u001b[0m \u001b[0;34m\"b\"\u001b[0m \u001b[0;32mnot\u001b[0m \u001b[0;32min\u001b[0m \u001b[0mioargs\u001b[0m\u001b[0;34m.\u001b[0m\u001b[0mmode\u001b[0m\u001b[0;34m:\u001b[0m\u001b[0;34m\u001b[0m\u001b[0;34m\u001b[0m\u001b[0m\n\u001b[1;32m    858\u001b[0m             \u001b[0;31m# Encoding\u001b[0m\u001b[0;34m\u001b[0m\u001b[0;34m\u001b[0m\u001b[0m\n\u001b[0;32m--> 859\u001b[0;31m             handle = open(\n\u001b[0m\u001b[1;32m    860\u001b[0m                 \u001b[0mhandle\u001b[0m\u001b[0;34m,\u001b[0m\u001b[0;34m\u001b[0m\u001b[0;34m\u001b[0m\u001b[0m\n\u001b[1;32m    861\u001b[0m                 \u001b[0mioargs\u001b[0m\u001b[0;34m.\u001b[0m\u001b[0mmode\u001b[0m\u001b[0;34m,\u001b[0m\u001b[0;34m\u001b[0m\u001b[0;34m\u001b[0m\u001b[0m\n",
            "\u001b[0;31mFileNotFoundError\u001b[0m: [Errno 2] No such file or directory: 'spam.csv'"
          ]
        }
      ]
    },
    {
      "cell_type": "code",
      "source": [
        "data.columns"
      ],
      "metadata": {
        "execution": {
          "iopub.status.busy": "2021-06-21T08:27:21.018891Z",
          "iopub.execute_input": "2021-06-21T08:27:21.019239Z",
          "iopub.status.idle": "2021-06-21T08:27:21.02575Z",
          "shell.execute_reply.started": "2021-06-21T08:27:21.019204Z",
          "shell.execute_reply": "2021-06-21T08:27:21.024595Z"
        },
        "trusted": true,
        "id": "TwiDcJHhlLQ7"
      },
      "execution_count": null,
      "outputs": []
    },
    {
      "cell_type": "code",
      "source": [
        "data.info()"
      ],
      "metadata": {
        "execution": {
          "iopub.status.busy": "2021-06-21T08:27:21.028008Z",
          "iopub.execute_input": "2021-06-21T08:27:21.028536Z",
          "iopub.status.idle": "2021-06-21T08:27:21.048035Z",
          "shell.execute_reply.started": "2021-06-21T08:27:21.028491Z",
          "shell.execute_reply": "2021-06-21T08:27:21.046822Z"
        },
        "trusted": true,
        "id": "R83hlUVHlLQ7"
      },
      "execution_count": null,
      "outputs": []
    },
    {
      "cell_type": "code",
      "source": [
        "data.isna().sum()"
      ],
      "metadata": {
        "execution": {
          "iopub.status.busy": "2021-06-21T08:27:21.049138Z",
          "iopub.execute_input": "2021-06-21T08:27:21.049531Z",
          "iopub.status.idle": "2021-06-21T08:27:21.065377Z",
          "shell.execute_reply.started": "2021-06-21T08:27:21.0495Z",
          "shell.execute_reply": "2021-06-21T08:27:21.064247Z"
        },
        "trusted": true,
        "id": "YXVXEQ0plLQ8"
      },
      "execution_count": null,
      "outputs": []
    },
    {
      "cell_type": "code",
      "source": [
        "data['Spam']=data['Category'].apply(lambda x:1 if x=='spam' else 0)\n",
        "data.head(5)"
      ],
      "metadata": {
        "execution": {
          "iopub.status.busy": "2021-06-21T08:27:21.066779Z",
          "iopub.execute_input": "2021-06-21T08:27:21.067089Z",
          "iopub.status.idle": "2021-06-21T08:27:21.08737Z",
          "shell.execute_reply.started": "2021-06-21T08:27:21.067038Z",
          "shell.execute_reply": "2021-06-21T08:27:21.085987Z"
        },
        "trusted": true,
        "id": "3RoJmUOClLQ8"
      },
      "execution_count": null,
      "outputs": []
    },
    {
      "cell_type": "code",
      "source": [
        "X_train, X_test, y_train, y_test = train_test_split(data.Message, data.Spam, test_size=0.25, random_state=42)\n"
      ],
      "metadata": {
        "execution": {
          "iopub.status.busy": "2021-06-21T08:27:21.089341Z",
          "iopub.execute_input": "2021-06-21T08:27:21.089754Z",
          "iopub.status.idle": "2021-06-21T08:27:21.099389Z",
          "shell.execute_reply.started": "2021-06-21T08:27:21.089708Z",
          "shell.execute_reply": "2021-06-21T08:27:21.098392Z"
        },
        "trusted": true,
        "id": "mf7XxIbvlLQ8"
      },
      "execution_count": null,
      "outputs": []
    },
    {
      "cell_type": "markdown",
      "source": [
        "## Handling Class Imbalance"
      ],
      "metadata": {
        "id": "5Dp_ZKFs1Zq2"
      }
    },
    {
      "cell_type": "code",
      "source": [
        "# Undersample the majority class\n",
        "rus = RandomUnderSampler(random_state=42)\n",
        "X_train_res, y_train_res = rus.fit_resample(X_train.to_frame(), y_train)\n",
        "X_train_res = X_train_res['Message']\n",
        "\n",
        "# Oversample the minority class\n",
        "ros = RandomOverSampler(random_state=42)\n",
        "X_train_overs, y_train_overs = ros.fit_resample(X_train.to_frame(), y_train)\n",
        "X_train_overs = X_train_overs['Message']"
      ],
      "metadata": {
        "id": "qJoBF8Zc1fiW"
      },
      "execution_count": null,
      "outputs": []
    },
    {
      "cell_type": "markdown",
      "source": [
        "# Training The Model\n"
      ],
      "metadata": {
        "id": "9T5EBrPElLQ-"
      }
    },
    {
      "cell_type": "code",
      "source": [
        "def evaluate_model(model, X_train, y_train, X_test, y_test):\n",
        "    start_time = time.time()\n",
        "    model.fit(X_train, y_train)\n",
        "    end_time = time.time()\n",
        "    training_time = end_time - start_time\n",
        "\n",
        "    y_pred = model.predict(X_test)\n",
        "\n",
        "    accuracy = accuracy_score(y_test, y_pred)\n",
        "    precision = precision_score(y_test, y_pred)\n",
        "    recall = recall_score(y_test, y_pred)\n",
        "    f1 = f1_score(y_test, y_pred)\n",
        "\n",
        "    return accuracy, precision, recall, f1, training_time"
      ],
      "metadata": {
        "id": "IMizieEw2KsU"
      },
      "execution_count": null,
      "outputs": []
    },
    {
      "cell_type": "markdown",
      "source": [
        "## Original Data\n"
      ],
      "metadata": {
        "id": "5050XtAk1jwc"
      }
    },
    {
      "cell_type": "markdown",
      "source": [
        "### Naive Bayes Model\n",
        "\n"
      ],
      "metadata": {
        "id": "pmZ4HJ8-Uudi"
      }
    },
    {
      "cell_type": "code",
      "source": [
        "clf_nb = Pipeline([\n",
        "    ('vectorizer', CountVectorizer()),\n",
        "    ('nb', MultinomialNB())\n",
        "])"
      ],
      "metadata": {
        "execution": {
          "iopub.status.busy": "2021-06-21T08:27:21.136587Z",
          "iopub.execute_input": "2021-06-21T08:27:21.137067Z",
          "iopub.status.idle": "2021-06-21T08:27:21.15169Z",
          "shell.execute_reply.started": "2021-06-21T08:27:21.137008Z",
          "shell.execute_reply": "2021-06-21T08:27:21.150104Z"
        },
        "trusted": true,
        "id": "iQuBppWGlLQ9"
      },
      "execution_count": null,
      "outputs": []
    },
    {
      "cell_type": "markdown",
      "source": [
        "### Random Forest Model"
      ],
      "metadata": {
        "id": "j3seKO6qZfvC"
      }
    },
    {
      "cell_type": "code",
      "source": [
        "clf_rf = Pipeline([\n",
        "    ('vectorizer', CountVectorizer()),\n",
        "    ('rf', RandomForestClassifier(n_estimators=100, random_state=42))\n",
        "])"
      ],
      "metadata": {
        "id": "sAX8YbrJZiyZ"
      },
      "execution_count": null,
      "outputs": []
    },
    {
      "cell_type": "markdown",
      "source": [
        "### SVM Model\n"
      ],
      "metadata": {
        "id": "TUhO55TEaM2U"
      }
    },
    {
      "cell_type": "code",
      "source": [
        "clf_svm = Pipeline([\n",
        "    ('vectorizer', CountVectorizer()),\n",
        "    ('svm', SVC(kernel='linear', random_state=42))\n",
        "])"
      ],
      "metadata": {
        "id": "vaK56tnSakqP"
      },
      "execution_count": null,
      "outputs": []
    },
    {
      "cell_type": "markdown",
      "source": [
        "### kNN Model\n"
      ],
      "metadata": {
        "id": "BrkgAkhbawEc"
      }
    },
    {
      "cell_type": "code",
      "source": [
        "clf_knn = Pipeline([\n",
        "    ('vectorizer', CountVectorizer()),\n",
        "    ('knn', KNeighborsClassifier(n_neighbors=5))\n",
        "])\n"
      ],
      "metadata": {
        "id": "zvcDvZyba0P_"
      },
      "execution_count": null,
      "outputs": []
    },
    {
      "cell_type": "markdown",
      "source": [
        "### Evaluate Models"
      ],
      "metadata": {
        "id": "FSZkPbWmeoSM"
      }
    },
    {
      "cell_type": "code",
      "source": [
        "nb_metrics = evaluate_model(clf_nb, X_train, y_train, X_test, y_test)\n",
        "rf_metrics = evaluate_model(clf_rf, X_train, y_train, X_test, y_test)\n",
        "svm_metrics = evaluate_model(clf_svm, X_train, y_train, X_test, y_test)\n",
        "knn_metrics = evaluate_model(clf_knn, X_train, y_train, X_test, y_test)\n",
        "\n",
        "print(\"Original Data\")\n",
        "print(\"Naive Bayes - Accuracy: {:.4f}, Precision: {:.4f}, Recall: {:.4f}, F1 Score: {:.4f}, Training Time: {:.4f} seconds\".format(*nb_metrics))\n",
        "print(\"Random Forest - Accuracy: {:.4f}, Precision: {:.4f}, Recall: {:.4f}, F1 Score: {:.4f}, Training Time: {:.4f} seconds\".format(*rf_metrics))\n",
        "print(\"SVM - Accuracy: {:.4f}, Precision: {:.4f}, Recall: {:.4f}, F1 Score: {:.4f}, Training Time: {:.4f} seconds\".format(*svm_metrics))\n",
        "print(\"kNN - Accuracy: {:.4f}, Precision: {:.4f}, Recall: {:.4f}, F1 Score: {:.4f}, Training Time: {:.4f} seconds\".format(*knn_metrics))"
      ],
      "metadata": {
        "colab": {
          "base_uri": "https://localhost:8080/"
        },
        "id": "HfE-hGdDeq7x",
        "outputId": "8589b4b0-239e-45dd-ca5e-eab724ba5e0b"
      },
      "execution_count": null,
      "outputs": [
        {
          "output_type": "stream",
          "name": "stdout",
          "text": [
            "Naive Bayes - Accuracy: 0.9849, Precision: 0.9503, Recall: 0.9348, F1 Score: 0.9425, Training Time: 0.2315 seconds\n",
            "Random Forest - Accuracy: 0.9835, Precision: 1.0000, Recall: 0.8750, F1 Score: 0.9333, Training Time: 2.6781 seconds\n",
            "SVM - Accuracy: 0.9892, Precision: 0.9884, Recall: 0.9293, F1 Score: 0.9580, Training Time: 0.9108 seconds\n",
            "kNN - Accuracy: 0.9196, Precision: 1.0000, Recall: 0.3913, F1 Score: 0.5625, Training Time: 0.2379 seconds\n"
          ]
        }
      ]
    },
    {
      "cell_type": "markdown",
      "source": [
        "## Undersampled Data\n"
      ],
      "metadata": {
        "id": "CBtd8YTi2bWz"
      }
    },
    {
      "cell_type": "markdown",
      "source": [
        "### Naive Bayes Model\n"
      ],
      "metadata": {
        "id": "juB2haZe2rtX"
      }
    },
    {
      "cell_type": "code",
      "source": [
        "clf_nb_res = Pipeline([\n",
        "    ('vectorizer', CountVectorizer()),\n",
        "    ('nb', MultinomialNB())\n",
        "])"
      ],
      "metadata": {
        "id": "w1Q8SBQD2tjV"
      },
      "execution_count": null,
      "outputs": []
    },
    {
      "cell_type": "markdown",
      "source": [
        "### Random Forest Model\n"
      ],
      "metadata": {
        "id": "BUTr0q-02w68"
      }
    },
    {
      "cell_type": "code",
      "source": [
        "clf_rf_res = Pipeline([\n",
        "    ('vectorizer', CountVectorizer()),\n",
        "    ('rf', RandomForestClassifier(n_estimators=100, random_state=42))\n",
        "])"
      ],
      "metadata": {
        "id": "tgBGwN7P2zbS"
      },
      "execution_count": null,
      "outputs": []
    },
    {
      "cell_type": "markdown",
      "source": [
        "### SVM Model"
      ],
      "metadata": {
        "id": "KO8sgKgG21fJ"
      }
    },
    {
      "cell_type": "code",
      "source": [
        "clf_svm_res = Pipeline([\n",
        "    ('vectorizer', CountVectorizer()),\n",
        "    ('svm', SVC(kernel='linear', random_state=42))\n",
        "])"
      ],
      "metadata": {
        "id": "RpmI1UrK236Q"
      },
      "execution_count": null,
      "outputs": []
    },
    {
      "cell_type": "markdown",
      "source": [
        "### kNN Model"
      ],
      "metadata": {
        "id": "vhH8IrzQ27Er"
      }
    },
    {
      "cell_type": "code",
      "source": [
        "clf_knn_res = Pipeline([\n",
        "    ('vectorizer', CountVectorizer()),\n",
        "    ('knn', KNeighborsClassifier(n_neighbors=5))\n",
        "])"
      ],
      "metadata": {
        "id": "R6M4CJ0Y29Mt"
      },
      "execution_count": null,
      "outputs": []
    },
    {
      "cell_type": "markdown",
      "source": [
        "### Evaluate Models\n"
      ],
      "metadata": {
        "id": "HeZimQrb2_C2"
      }
    },
    {
      "cell_type": "code",
      "source": [
        "nb_metrics_res = evaluate_model(clf_nb_res, X_train_res, y_train_res, X_test, y_test)\n",
        "rf_metrics_res = evaluate_model(clf_rf_res, X_train_res, y_train_res, X_test, y_test)\n",
        "svm_metrics_res = evaluate_model(clf_svm_res, X_train_res, y_train_res, X_test, y_test)\n",
        "knn_metrics_res = evaluate_model(clf_knn_res, X_train_res, y_train_res, X_test, y_test)\n",
        "\n",
        "print(\"\\nUndersampled Data\")\n",
        "print(\"Naive Bayes - Accuracy: {:.4f}, Precision: {:.4f}, Recall: {:.4f}, F1 Score: {:.4f}, Training Time: {:.4f} seconds\".format(*nb_metrics_res))\n",
        "print(\"Random Forest - Accuracy: {:.4f}, Precision: {:.4f}, Recall: {:.4f}, F1 Score: {:.4f}, Training Time: {:.4f} seconds\".format(*rf_metrics_res))\n",
        "print(\"SVM - Accuracy: {:.4f}, Precision: {:.4f}, Recall: {:.4f}, F1 Score: {:.4f}, Training Time: {:.4f} seconds\".format(*svm_metrics_res))\n",
        "print(\"kNN - Accuracy: {:.4f}, Precision: {:.4f}, Recall: {:.4f}, F1 Score: {:.4f}, Training Time: {:.4f} seconds\".format(*knn_metrics_res))"
      ],
      "metadata": {
        "id": "nAupsrYS3BVM"
      },
      "execution_count": null,
      "outputs": []
    },
    {
      "cell_type": "markdown",
      "source": [
        "## Oversampled Model"
      ],
      "metadata": {
        "id": "1r-T4WT73GQB"
      }
    },
    {
      "cell_type": "markdown",
      "source": [
        "### Naive Bayes Model"
      ],
      "metadata": {
        "id": "yzx31znN3J6X"
      }
    },
    {
      "cell_type": "code",
      "source": [
        "clf_nb_overs = Pipeline([\n",
        "    ('vectorizer', CountVectorizer()),\n",
        "    ('nb', MultinomialNB())\n",
        "])"
      ],
      "metadata": {
        "id": "BNIVsXIY3MDs"
      },
      "execution_count": null,
      "outputs": []
    },
    {
      "cell_type": "markdown",
      "source": [
        "### Random Forest Model"
      ],
      "metadata": {
        "id": "LducnYVp3PdU"
      }
    },
    {
      "cell_type": "code",
      "source": [
        "clf_rf_overs = Pipeline([\n",
        "    ('vectorizer', CountVectorizer()),\n",
        "    ('rf', RandomForestClassifier(n_estimators=100, random_state=42))\n",
        "])"
      ],
      "metadata": {
        "id": "6x7bQRK43RHs"
      },
      "execution_count": null,
      "outputs": []
    },
    {
      "cell_type": "markdown",
      "source": [
        "### SVM Model"
      ],
      "metadata": {
        "id": "KitBMDZl3Yz4"
      }
    },
    {
      "cell_type": "code",
      "source": [
        "clf_svm_overs = Pipeline([\n",
        "    ('vectorizer', CountVectorizer()),\n",
        "    ('svm', SVC(kernel='linear', random_state=42))\n",
        "])"
      ],
      "metadata": {
        "id": "F-vIdU7R3aYX"
      },
      "execution_count": null,
      "outputs": []
    },
    {
      "cell_type": "markdown",
      "source": [
        "### kNN Model"
      ],
      "metadata": {
        "id": "d15yAfXB3cIK"
      }
    },
    {
      "cell_type": "code",
      "source": [
        "clf_knn_overs = Pipeline([\n",
        "    ('vectorizer', CountVectorizer()),\n",
        "    ('knn', KNeighborsClassifier(n_neighbors=5))\n",
        "])"
      ],
      "metadata": {
        "id": "uzedORnZ3eGt"
      },
      "execution_count": null,
      "outputs": []
    },
    {
      "cell_type": "markdown",
      "source": [
        "### Evaluate Models"
      ],
      "metadata": {
        "id": "BmURXJUF3gIr"
      }
    },
    {
      "cell_type": "code",
      "source": [
        "nb_metrics_overs = evaluate_model(clf_nb_overs, X_train_overs, y_train_overs, X_test, y_test)\n",
        "rf_metrics_overs = evaluate_model(clf_rf_overs, X_train_overs, y_train_overs, X_test, y_test)\n",
        "svm_metrics_overs = evaluate_model(clf_svm_overs, X_train_overs, y_train_overs, X_test, y_test)\n",
        "knn_metrics_overs = evaluate_model(clf_knn_overs, X_train_overs, y_train_overs, X_test, y_test)\n",
        "\n",
        "print(\"\\nOversampled Data\")\n",
        "print(\"Naive Bayes - Accuracy: {:.4f}, Precision: {:.4f}, Recall: {:.4f}, F1 Score: {:.4f}, Training Time: {:.4f} seconds\".format(*nb_metrics_overs))\n",
        "print(\"Random Forest - Accuracy: {:.4f}, Precision: {:.4f}, Recall: {:.4f}, F1 Score: {:.4f}, Training Time: {:.4f} seconds\".format(*rf_metrics_overs))\n",
        "print(\"SVM - Accuracy: {:.4f}, Precision: {:.4f}, Recall: {:.4f}, F1 Score: {:.4f}, Training Time: {:.4f} seconds\".format(*svm_metrics_overs))\n",
        "print(\"kNN - Accuracy: {:.4f}, Precision: {:.4f}, Recall: {:.4f}, F1 Score: {:.4f}, Training Time: {:.4f} seconds\".format(*knn_metrics_overs))"
      ],
      "metadata": {
        "id": "hhwRzmM03h05"
      },
      "execution_count": null,
      "outputs": []
    },
    {
      "cell_type": "markdown",
      "source": [
        "# Graphic Analysis"
      ],
      "metadata": {
        "id": "Q4q8vmFB3oyn"
      }
    },
    {
      "cell_type": "code",
      "source": [
        "# Plotting the number of instances in each class\n",
        "\n",
        "fig, ax = plt.subplots(1, 3, figsize=(18, 6))\n",
        "\n",
        "# Original data\n",
        "sns.countplot(x=y_train, ax=ax[0])\n",
        "ax[0].set_title('Original Data')\n",
        "ax[0].set_xlabel('Class')\n",
        "ax[0].set_ylabel('Count')\n",
        "\n",
        "# Undersampled data\n",
        "sns.countplot(x=y_train_res, ax=ax[1])\n",
        "ax[1].set_title('Undersampled Data')\n",
        "ax[1].set_xlabel('Class')\n",
        "ax[1].set_ylabel('Count')\n",
        "\n",
        "# Oversampled data\n",
        "sns.countplot(x=y_train_overs, ax=ax[2])\n",
        "ax[2].set_title('Oversampled Data')\n",
        "ax[2].set_xlabel('Class')\n",
        "ax[2].set_ylabel('Count')\n",
        "\n",
        "plt.tight_layout()\n",
        "plt.show()"
      ],
      "metadata": {
        "id": "PTNHH74p3u7x"
      },
      "execution_count": null,
      "outputs": []
    },
    {
      "cell_type": "markdown",
      "source": [
        "# Examples\n"
      ],
      "metadata": {
        "id": "08SVKp26lLQ-"
      }
    },
    {
      "cell_type": "code",
      "source": [
        "emails=[\n",
        "    'Sounds great! Are you home now?',\n",
        "    'Will u meet ur dream partner soon? Is ur career off 2 a flyng start? 2 find out free, txt HORO followed by ur star sign, e. g. HORO ARIES',\n",
        "    'Hello, how r u??',\n",
        "    'You are the lucky winner of a $500.00 gift card to spend at any online store. To claim your prize, simply follow these easy steps'\n",
        "]"
      ],
      "metadata": {
        "execution": {
          "iopub.status.busy": "2021-06-21T08:27:21.252754Z",
          "iopub.execute_input": "2021-06-21T08:27:21.25319Z",
          "iopub.status.idle": "2021-06-21T08:27:21.257481Z",
          "shell.execute_reply.started": "2021-06-21T08:27:21.253141Z",
          "shell.execute_reply": "2021-06-21T08:27:21.256361Z"
        },
        "trusted": true,
        "id": "dXtWOszSlLQ-"
      },
      "execution_count": null,
      "outputs": []
    },
    {
      "cell_type": "markdown",
      "source": [
        "**Predict Email**"
      ],
      "metadata": {
        "id": "G8bYrLnPlLQ-"
      }
    },
    {
      "cell_type": "code",
      "source": [
        "clf_svm.predict(emails)"
      ],
      "metadata": {
        "execution": {
          "iopub.status.busy": "2021-06-21T08:27:21.259689Z",
          "iopub.execute_input": "2021-06-21T08:27:21.260559Z",
          "iopub.status.idle": "2021-06-21T08:27:21.272626Z",
          "shell.execute_reply.started": "2021-06-21T08:27:21.260501Z",
          "shell.execute_reply": "2021-06-21T08:27:21.271403Z"
        },
        "trusted": true,
        "id": "KG23kjA1lLQ-",
        "outputId": "62417a25-d9e4-4a2e-9a49-40d59192e2cc",
        "colab": {
          "base_uri": "https://localhost:8080/"
        }
      },
      "execution_count": null,
      "outputs": [
        {
          "output_type": "execute_result",
          "data": {
            "text/plain": [
              "array([0, 1, 0, 0, 1])"
            ]
          },
          "metadata": {},
          "execution_count": 42
        }
      ]
    },
    {
      "cell_type": "code",
      "source": [],
      "metadata": {
        "id": "YsPU6PgWMzmO"
      },
      "execution_count": null,
      "outputs": []
    }
  ]
}